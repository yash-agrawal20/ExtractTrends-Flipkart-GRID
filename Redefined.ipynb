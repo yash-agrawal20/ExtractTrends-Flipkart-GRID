{
 "cells": [
  {
   "cell_type": "code",
   "execution_count": 1,
   "metadata": {},
   "outputs": [],
   "source": [
    "\"\"\" Importing the neccesary libraries \"\"\"\n",
    "\n",
    "#Selenium for web automation\n",
    "#Selenium Version: 4.2.0\n",
    "import selenium\n",
    "from selenium import webdriver\n",
    "from selenium.webdriver.common.keys import Keys\n",
    "from selenium.webdriver.common.by import By\n",
    "from selenium.webdriver.support.ui import WebDriverWait\n",
    "from selenium.webdriver.support import expected_conditions as EC\n",
    "import requests\n",
    "\n",
    "import time\n",
    "from datetime import datetime\n",
    "import pandas as pd\n",
    "from dateutil import tz\n",
    "\n",
    "from io import StringIO\n",
    "from html.parser import HTMLParser"
   ]
  },
  {
   "cell_type": "markdown",
   "metadata": {},
   "source": [
    "For HTML Processing"
   ]
  },
  {
   "cell_type": "code",
   "execution_count": 2,
   "metadata": {},
   "outputs": [],
   "source": [
    "class MLStripper(HTMLParser):\n",
    "    def __init__(self):\n",
    "        super().__init__()\n",
    "        self.reset()\n",
    "        self.strict = False\n",
    "        self.convert_charrefs= True\n",
    "        self.text = StringIO()\n",
    "    def handle_data(self, d):\n",
    "        self.text.write(d)\n",
    "    def get_data(self):\n",
    "        return self.text.getvalue()\n",
    "\n",
    "def strip_tags(html):\n",
    "    s = MLStripper()\n",
    "    s.feed(html)\n",
    "    return s.get_data() "
   ]
  },
  {
   "cell_type": "code",
   "execution_count": 3,
   "metadata": {},
   "outputs": [],
   "source": [
    "#Defining a parent bot class\n",
    "class Bot():\n",
    "    def __init__(self , email, password):\n",
    "        path =\"C:/Users/aniru/chromedriver.exe\"        \n",
    "        self.browser = webdriver.Chrome(path)\n",
    "        self.email = email\n",
    "        self.password = password\n",
    "    #Wait to get all elements of the page ready\n",
    "    def Presence_Located(self ,pause , clsName):\n",
    "        val = pause.until(EC.presence_of_all_elements_located((\n",
    "        By.CLASS_NAME ,clsName)))\n",
    "        return val\n",
    "    def Process_Image_Download(self ,ImgUrl):\n",
    "        imageUrls =[]\n",
    "        for i in ImgUrl:\n",
    "            imageUrl = i.get_attribute(\"src\")\n",
    "            imageUrls.append(imageUrl)\n",
    "            response = requests.get(imageUrl)\n",
    "            file = open(\"C://Users//aniru//FlipkartGrid//Images//img\"+str(time.time())+\".jpeg\", \"wb\")\n",
    "            file.write(response.content)\n",
    "            file.close()\n",
    "        return imageUrls\n",
    "    def dealProfile(self ,profiles):\n",
    "        new_profile = []\n",
    "        for profile in profiles:\n",
    "            profile = profile.replace(\"See All\",\"\") # Other Wise See all will be considered as profilename\n",
    "            if profile != \"\":\n",
    "                new_profile.append(profile)\n",
    "        return new_profile\n",
    "    def dealDates(self ,datetimelist):\n",
    "        new_date = []\n",
    "        for date in datetimelist:\n",
    "            date = date.replace(\"T\",\" \")[:-5]\n",
    "            utc = datetime.strptime(date, '%Y-%m-%d %H:%M:%S')\n",
    "            from_zone = tz.gettz('UTC')\n",
    "            to_zone = tz.gettz('Asia/Kolkata')\n",
    "            utc = utc.replace(tzinfo=from_zone)\n",
    "            # Convert time zone\n",
    "            central = utc.astimezone(to_zone)\n",
    "            new_date.append(central)\n",
    "        return new_date\n",
    "    def dealRest(self , values):\n",
    "        new_values = []\n",
    "        for v in values:\n",
    "            new_values.append(v)\n",
    "        return new_values \n",
    "\n"
   ]
  },
  {
   "cell_type": "markdown",
   "metadata": {},
   "source": [
    "Defining the child class TwitterBot which inherits from the parent class"
   ]
  },
  {
   "cell_type": "code",
   "execution_count": 4,
   "metadata": {},
   "outputs": [],
   "source": [
    "class twitterBot(Bot):\n",
    "    def signIn(self):\n",
    "        #Moves to the mentioned URL\n",
    "        self.browser.get('https://twitter.com/i/flow/login')\n",
    "        print(self.browser.title)\n",
    "        #Induce delay to avoid suspicion\n",
    "        time.sleep(10)\n",
    "\n",
    "        #Enter the email input and press enter , so as to move to next step \n",
    "        emailInput = self.browser.find_element(By.NAME,\"text\")\n",
    "        emailInput.click()\n",
    "        emailInput.send_keys(self.email)\n",
    "        emailInput.send_keys(Keys.RETURN)\n",
    "        #Induce delay\n",
    "        time.sleep(10)\n",
    "\n",
    "        #Enter the password input and press enter , to finally enter the page\n",
    "        passwordInput = self.browser.find_element(By.NAME,\"password\")\n",
    "        passwordInput.send_keys(self.password)\n",
    "        passwordInput.send_keys(Keys.RETURN)\n",
    "        time.sleep(2) \n",
    "    def processProfileI(self ,name):\n",
    "        profiles = []\n",
    "        for n in name:\n",
    "            profile = n.get_attribute(\"text\")\n",
    "            substring = \"@\"\n",
    "            if substring not in profile:\n",
    "                profiles.append(profile)\n",
    "        return profiles\n",
    "    def processDescriptionI(self , desc):\n",
    "        descriptions = []\n",
    "        for d in desc:\n",
    "            description = d.get_attribute(\"innerHTML\")\n",
    "            description = strip_tags(description)\n",
    "            descriptions.append(description)\n",
    "        return descriptions\n",
    "    def processDateI(self , dateList):\n",
    "        datetimelist = []\n",
    "        for d in dateList:\n",
    "            date = d.get_attribute(\"innerHTML\")\n",
    "            dat = date.split()\n",
    "            date = dat[1]\n",
    "            dat_p = date.split('=')\n",
    "            date = dat_p[1]\n",
    "            dat = date.split('>')\n",
    "            date = dat[0]\n",
    "            make_list = date.split('\"')\n",
    "            date = make_list[1]\n",
    "            datetimelist.append(date)\n",
    "        return datetimelist\n",
    "    def ProcessReactionI(self , Reactions):\n",
    "        comments  = []\n",
    "        retweets = []\n",
    "        likes = []\n",
    "        multiple = 0\n",
    "        for r in Reactions:\n",
    "            reaction = r.get_attribute(\"innerHTML\")\n",
    "            numberReaction = strip_tags(reaction)\n",
    "            if(numberReaction != \"\"):\n",
    "                thousands = \"K\"\n",
    "                if thousands in numberReaction:\n",
    "                    num = numberReaction.replace(thousands,\"000\")\n",
    "                    numberReaction = num.replace(\".\",\",\")\n",
    "                comma =\",\"\n",
    "                if comma in numberReaction:\n",
    "                    change = numberReaction.replace(comma,\"\")\n",
    "                    numberReaction= change\n",
    "            else:\n",
    "                numberReaction = 0 \n",
    "            if(multiple%3 == 0):\n",
    "                comments.append(numberReaction)\n",
    "            elif(multiple%3 == 1):\n",
    "                retweets.append(numberReaction)\n",
    "            else:\n",
    "                likes.append(numberReaction)\n",
    "            multiple +=1\n",
    "        return comments , retweets , likes\n",
    "\n",
    "    \n",
    "\n"
   ]
  },
  {
   "cell_type": "code",
   "execution_count": 5,
   "metadata": {},
   "outputs": [
    {
     "name": "stderr",
     "output_type": "stream",
     "text": [
      "<ipython-input-3-71b2d4d43eb5>:5: DeprecationWarning: executable_path has been deprecated, please pass in a Service object\n",
      "  self.browser = webdriver.Chrome(path)\n"
     ]
    },
    {
     "name": "stdout",
     "output_type": "stream",
     "text": [
      "\n"
     ]
    },
    {
     "ename": "NoSuchElementException",
     "evalue": "Message: no such element: Unable to locate element: {\"method\":\"css selector\",\"selector\":\"[name=\"password\"]\"}\n  (Session info: chrome=103.0.5060.134)\nStacktrace:\nBacktrace:\n\tOrdinal0 [0x00D76463+2188387]\n\tOrdinal0 [0x00D0E461+1762401]\n\tOrdinal0 [0x00C23D78+802168]\n\tOrdinal0 [0x00C51880+989312]\n\tOrdinal0 [0x00C51B1B+989979]\n\tOrdinal0 [0x00C7E912+1173778]\n\tOrdinal0 [0x00C6C824+1099812]\n\tOrdinal0 [0x00C7CC22+1166370]\n\tOrdinal0 [0x00C6C5F6+1099254]\n\tOrdinal0 [0x00C46BE0+945120]\n\tOrdinal0 [0x00C47AD6+948950]\n\tGetHandleVerifier [0x010171F2+2712546]\n\tGetHandleVerifier [0x0100886D+2652765]\n\tGetHandleVerifier [0x00E0002A+520730]\n\tGetHandleVerifier [0x00DFEE06+516086]\n\tOrdinal0 [0x00D1468B+1787531]\n\tOrdinal0 [0x00D18E88+1805960]\n\tOrdinal0 [0x00D18F75+1806197]\n\tOrdinal0 [0x00D21DF1+1842673]\n\tBaseThreadInitThunk [0x760BFA29+25]\n\tRtlGetAppContainerNamedObjectPath [0x77857A7E+286]\n\tRtlGetAppContainerNamedObjectPath [0x77857A4E+238]\n",
     "output_type": "error",
     "traceback": [
      "\u001b[1;31m---------------------------------------------------------------------------\u001b[0m",
      "\u001b[1;31mNoSuchElementException\u001b[0m                    Traceback (most recent call last)",
      "\u001b[1;32m<ipython-input-5-d91f391d4200>\u001b[0m in \u001b[0;36m<module>\u001b[1;34m\u001b[0m\n\u001b[0;32m      1\u001b[0m \u001b[0mtrendBot\u001b[0m \u001b[1;33m=\u001b[0m \u001b[0mtwitterBot\u001b[0m\u001b[1;33m(\u001b[0m\u001b[1;34m\"trendfinder2022@gmail.com\"\u001b[0m\u001b[1;33m,\u001b[0m\u001b[1;34m\"hackgrid2022\"\u001b[0m\u001b[1;33m)\u001b[0m\u001b[1;33m\u001b[0m\u001b[1;33m\u001b[0m\u001b[0m\n\u001b[0;32m      2\u001b[0m \u001b[0mwait\u001b[0m \u001b[1;33m=\u001b[0m \u001b[0mWebDriverWait\u001b[0m\u001b[1;33m(\u001b[0m\u001b[0mtrendBot\u001b[0m\u001b[1;33m.\u001b[0m\u001b[0mbrowser\u001b[0m\u001b[1;33m,\u001b[0m \u001b[1;36m10\u001b[0m\u001b[1;33m)\u001b[0m\u001b[1;33m\u001b[0m\u001b[1;33m\u001b[0m\u001b[0m\n\u001b[1;32m----> 3\u001b[1;33m \u001b[0mtrendBot\u001b[0m\u001b[1;33m.\u001b[0m\u001b[0msignIn\u001b[0m\u001b[1;33m(\u001b[0m\u001b[1;33m)\u001b[0m\u001b[1;33m\u001b[0m\u001b[1;33m\u001b[0m\u001b[0m\n\u001b[0m\u001b[0;32m      4\u001b[0m \u001b[0mtime\u001b[0m\u001b[1;33m.\u001b[0m\u001b[0msleep\u001b[0m\u001b[1;33m(\u001b[0m\u001b[1;36m3\u001b[0m\u001b[1;33m)\u001b[0m\u001b[1;33m\u001b[0m\u001b[1;33m\u001b[0m\u001b[0m\n",
      "\u001b[1;32m<ipython-input-4-0a94d399240a>\u001b[0m in \u001b[0;36msignIn\u001b[1;34m(self)\u001b[0m\n\u001b[0;32m     16\u001b[0m \u001b[1;33m\u001b[0m\u001b[0m\n\u001b[0;32m     17\u001b[0m         \u001b[1;31m#Enter the password input and press enter , to finally enter the page\u001b[0m\u001b[1;33m\u001b[0m\u001b[1;33m\u001b[0m\u001b[1;33m\u001b[0m\u001b[0m\n\u001b[1;32m---> 18\u001b[1;33m         \u001b[0mpasswordInput\u001b[0m \u001b[1;33m=\u001b[0m \u001b[0mself\u001b[0m\u001b[1;33m.\u001b[0m\u001b[0mbrowser\u001b[0m\u001b[1;33m.\u001b[0m\u001b[0mfind_element\u001b[0m\u001b[1;33m(\u001b[0m\u001b[0mBy\u001b[0m\u001b[1;33m.\u001b[0m\u001b[0mNAME\u001b[0m\u001b[1;33m,\u001b[0m\u001b[1;34m\"password\"\u001b[0m\u001b[1;33m)\u001b[0m\u001b[1;33m\u001b[0m\u001b[1;33m\u001b[0m\u001b[0m\n\u001b[0m\u001b[0;32m     19\u001b[0m         \u001b[0mpasswordInput\u001b[0m\u001b[1;33m.\u001b[0m\u001b[0msend_keys\u001b[0m\u001b[1;33m(\u001b[0m\u001b[0mself\u001b[0m\u001b[1;33m.\u001b[0m\u001b[0mpassword\u001b[0m\u001b[1;33m)\u001b[0m\u001b[1;33m\u001b[0m\u001b[1;33m\u001b[0m\u001b[0m\n\u001b[0;32m     20\u001b[0m         \u001b[0mpasswordInput\u001b[0m\u001b[1;33m.\u001b[0m\u001b[0msend_keys\u001b[0m\u001b[1;33m(\u001b[0m\u001b[0mKeys\u001b[0m\u001b[1;33m.\u001b[0m\u001b[0mRETURN\u001b[0m\u001b[1;33m)\u001b[0m\u001b[1;33m\u001b[0m\u001b[1;33m\u001b[0m\u001b[0m\n",
      "\u001b[1;32mc:\\Users\\aniru\\anaconda3\\lib\\site-packages\\selenium\\webdriver\\remote\\webdriver.py\u001b[0m in \u001b[0;36mfind_element\u001b[1;34m(self, by, value)\u001b[0m\n\u001b[0;32m    855\u001b[0m             \u001b[0mvalue\u001b[0m \u001b[1;33m=\u001b[0m \u001b[1;34m'[name=\"%s\"]'\u001b[0m \u001b[1;33m%\u001b[0m \u001b[0mvalue\u001b[0m\u001b[1;33m\u001b[0m\u001b[1;33m\u001b[0m\u001b[0m\n\u001b[0;32m    856\u001b[0m \u001b[1;33m\u001b[0m\u001b[0m\n\u001b[1;32m--> 857\u001b[1;33m         return self.execute(Command.FIND_ELEMENT, {\n\u001b[0m\u001b[0;32m    858\u001b[0m             \u001b[1;34m'using'\u001b[0m\u001b[1;33m:\u001b[0m \u001b[0mby\u001b[0m\u001b[1;33m,\u001b[0m\u001b[1;33m\u001b[0m\u001b[1;33m\u001b[0m\u001b[0m\n\u001b[0;32m    859\u001b[0m             'value': value})['value']\n",
      "\u001b[1;32mc:\\Users\\aniru\\anaconda3\\lib\\site-packages\\selenium\\webdriver\\remote\\webdriver.py\u001b[0m in \u001b[0;36mexecute\u001b[1;34m(self, driver_command, params)\u001b[0m\n\u001b[0;32m    433\u001b[0m         \u001b[0mresponse\u001b[0m \u001b[1;33m=\u001b[0m \u001b[0mself\u001b[0m\u001b[1;33m.\u001b[0m\u001b[0mcommand_executor\u001b[0m\u001b[1;33m.\u001b[0m\u001b[0mexecute\u001b[0m\u001b[1;33m(\u001b[0m\u001b[0mdriver_command\u001b[0m\u001b[1;33m,\u001b[0m \u001b[0mparams\u001b[0m\u001b[1;33m)\u001b[0m\u001b[1;33m\u001b[0m\u001b[1;33m\u001b[0m\u001b[0m\n\u001b[0;32m    434\u001b[0m         \u001b[1;32mif\u001b[0m \u001b[0mresponse\u001b[0m\u001b[1;33m:\u001b[0m\u001b[1;33m\u001b[0m\u001b[1;33m\u001b[0m\u001b[0m\n\u001b[1;32m--> 435\u001b[1;33m             \u001b[0mself\u001b[0m\u001b[1;33m.\u001b[0m\u001b[0merror_handler\u001b[0m\u001b[1;33m.\u001b[0m\u001b[0mcheck_response\u001b[0m\u001b[1;33m(\u001b[0m\u001b[0mresponse\u001b[0m\u001b[1;33m)\u001b[0m\u001b[1;33m\u001b[0m\u001b[1;33m\u001b[0m\u001b[0m\n\u001b[0m\u001b[0;32m    436\u001b[0m             response['value'] = self._unwrap_value(\n\u001b[0;32m    437\u001b[0m                 response.get('value', None))\n",
      "\u001b[1;32mc:\\Users\\aniru\\anaconda3\\lib\\site-packages\\selenium\\webdriver\\remote\\errorhandler.py\u001b[0m in \u001b[0;36mcheck_response\u001b[1;34m(self, response)\u001b[0m\n\u001b[0;32m    245\u001b[0m                 \u001b[0malert_text\u001b[0m \u001b[1;33m=\u001b[0m \u001b[0mvalue\u001b[0m\u001b[1;33m[\u001b[0m\u001b[1;34m'alert'\u001b[0m\u001b[1;33m]\u001b[0m\u001b[1;33m.\u001b[0m\u001b[0mget\u001b[0m\u001b[1;33m(\u001b[0m\u001b[1;34m'text'\u001b[0m\u001b[1;33m)\u001b[0m\u001b[1;33m\u001b[0m\u001b[1;33m\u001b[0m\u001b[0m\n\u001b[0;32m    246\u001b[0m             \u001b[1;32mraise\u001b[0m \u001b[0mexception_class\u001b[0m\u001b[1;33m(\u001b[0m\u001b[0mmessage\u001b[0m\u001b[1;33m,\u001b[0m \u001b[0mscreen\u001b[0m\u001b[1;33m,\u001b[0m \u001b[0mstacktrace\u001b[0m\u001b[1;33m,\u001b[0m \u001b[0malert_text\u001b[0m\u001b[1;33m)\u001b[0m  \u001b[1;31m# type: ignore[call-arg]  # mypy is not smart enough here\u001b[0m\u001b[1;33m\u001b[0m\u001b[1;33m\u001b[0m\u001b[0m\n\u001b[1;32m--> 247\u001b[1;33m         \u001b[1;32mraise\u001b[0m \u001b[0mexception_class\u001b[0m\u001b[1;33m(\u001b[0m\u001b[0mmessage\u001b[0m\u001b[1;33m,\u001b[0m \u001b[0mscreen\u001b[0m\u001b[1;33m,\u001b[0m \u001b[0mstacktrace\u001b[0m\u001b[1;33m)\u001b[0m\u001b[1;33m\u001b[0m\u001b[1;33m\u001b[0m\u001b[0m\n\u001b[0m\u001b[0;32m    248\u001b[0m \u001b[1;33m\u001b[0m\u001b[0m\n\u001b[0;32m    249\u001b[0m     \u001b[1;32mdef\u001b[0m \u001b[0m_value_or_default\u001b[0m\u001b[1;33m(\u001b[0m\u001b[0mself\u001b[0m\u001b[1;33m,\u001b[0m \u001b[0mobj\u001b[0m\u001b[1;33m:\u001b[0m \u001b[0mMapping\u001b[0m\u001b[1;33m[\u001b[0m\u001b[0m_KT\u001b[0m\u001b[1;33m,\u001b[0m \u001b[0m_VT\u001b[0m\u001b[1;33m]\u001b[0m\u001b[1;33m,\u001b[0m \u001b[0mkey\u001b[0m\u001b[1;33m:\u001b[0m \u001b[0m_KT\u001b[0m\u001b[1;33m,\u001b[0m \u001b[0mdefault\u001b[0m\u001b[1;33m:\u001b[0m \u001b[0m_VT\u001b[0m\u001b[1;33m)\u001b[0m \u001b[1;33m->\u001b[0m \u001b[0m_VT\u001b[0m\u001b[1;33m:\u001b[0m\u001b[1;33m\u001b[0m\u001b[1;33m\u001b[0m\u001b[0m\n",
      "\u001b[1;31mNoSuchElementException\u001b[0m: Message: no such element: Unable to locate element: {\"method\":\"css selector\",\"selector\":\"[name=\"password\"]\"}\n  (Session info: chrome=103.0.5060.134)\nStacktrace:\nBacktrace:\n\tOrdinal0 [0x00D76463+2188387]\n\tOrdinal0 [0x00D0E461+1762401]\n\tOrdinal0 [0x00C23D78+802168]\n\tOrdinal0 [0x00C51880+989312]\n\tOrdinal0 [0x00C51B1B+989979]\n\tOrdinal0 [0x00C7E912+1173778]\n\tOrdinal0 [0x00C6C824+1099812]\n\tOrdinal0 [0x00C7CC22+1166370]\n\tOrdinal0 [0x00C6C5F6+1099254]\n\tOrdinal0 [0x00C46BE0+945120]\n\tOrdinal0 [0x00C47AD6+948950]\n\tGetHandleVerifier [0x010171F2+2712546]\n\tGetHandleVerifier [0x0100886D+2652765]\n\tGetHandleVerifier [0x00E0002A+520730]\n\tGetHandleVerifier [0x00DFEE06+516086]\n\tOrdinal0 [0x00D1468B+1787531]\n\tOrdinal0 [0x00D18E88+1805960]\n\tOrdinal0 [0x00D18F75+1806197]\n\tOrdinal0 [0x00D21DF1+1842673]\n\tBaseThreadInitThunk [0x760BFA29+25]\n\tRtlGetAppContainerNamedObjectPath [0x77857A7E+286]\n\tRtlGetAppContainerNamedObjectPath [0x77857A4E+238]\n"
     ]
    }
   ],
   "source": [
    "trendBot = twitterBot(\"trendfinder2022@gmail.com\",\"hackgrid2022\")\n",
    "wait = WebDriverWait(trendBot.browser, 10)\n",
    "trendBot.signIn()\n",
    "time.sleep(3)"
   ]
  },
  {
   "cell_type": "code",
   "execution_count": 6,
   "metadata": {},
   "outputs": [],
   "source": [
    "names = []\n",
    "profiles = []\n",
    "imageUrls = []\n",
    "datetimelist = []\n",
    "likes = []\n",
    "comments = []\n",
    "descriptions = []\n",
    "locations = []\n",
    "retweets = []\n",
    "new_profile = []\n",
    "new_date = []\n",
    "new_descriptions = []\n",
    "new_likes =[]\n",
    "new_comments = []\n",
    "new_imageUrls = []\n",
    "new_retweets = []\n",
    "SCROLL_PAUSE_TIME = 1.6\n"
   ]
  },
  {
   "cell_type": "code",
   "execution_count": 14,
   "metadata": {},
   "outputs": [],
   "source": [
    "last_height = trendBot.browser.execute_script(\"return document.body.scrollHeight\")\n",
    "for i in range (15):\n",
    "    class_nameProfile= \"css-4rbku5.css-18t94o4.css-1dbjc4n.r-1loqt21.r-1wbh5a2.r-dnmrzs.r-1ny4l3l\"\n",
    "    name1 = trendBot.Presence_Located(wait,class_nameProfile)\n",
    "    profiles = trendBot.processProfileI(name1)\n",
    "\n",
    "    class_nameDescription= \"css-901oao.r-18jsvk2.r-37j5jr.r-a023e6.r-16dba41.r-rjixqe.r-bcqeeo.r-bnwqim.r-qvutc0\"\n",
    "    description1 = trendBot.Presence_Located(wait,class_nameDescription)\n",
    "    descriptions = trendBot.processDescriptionI(description1)\n",
    "\n",
    "    class_nameDate= \"css-4rbku5.css-18t94o4.css-901oao.r-14j79pv.r-1loqt21.r-1q142lx.r-37j5jr.r-a023e6.r-16dba41.r-rjixqe.r-bcqeeo.r-3s2u2q.r-qvutc0\"\n",
    "    date1 = trendBot.Presence_Located(wait,class_nameDate)\n",
    "    datetimelist = trendBot.processDateI(date1)\n",
    "\n",
    "    class_nameImg= \"css-9pa8cd\"\n",
    "    imageUrl1 = trendBot.Presence_Located(wait,class_nameImg)\n",
    "    imageUrls = trendBot.Process_Image_Download(imageUrl1)\n",
    "\n",
    "    class_nameReaction= \"css-1dbjc4n.r-xoduu5.r-1udh08x\"\n",
    "    reaction1 = trendBot.Presence_Located(wait,class_nameReaction)\n",
    "    comments,retweets,likes = trendBot.ProcessReactionI(reaction1)\n",
    "\n",
    "    trendBot.browser.execute_script(\"window.scrollTo(0, document.body.scrollHeight);\")\n",
    "\n",
    "    # Wait to load page\n",
    "    time.sleep(SCROLL_PAUSE_TIME)\n",
    "\n",
    "    # Calculate new scroll height and compare with last scroll height\n",
    "    new_height = trendBot.browser.execute_script(\"return document.body.scrollHeight\")\n",
    "    if new_height == last_height:\n",
    "        break\n",
    "    last_height = new_height\n",
    "\n",
    "\n",
    "\n"
   ]
  },
  {
   "cell_type": "code",
   "execution_count": 18,
   "metadata": {},
   "outputs": [
    {
     "name": "stdout",
     "output_type": "stream",
     "text": [
      "['Vogue Magazine', 'Vogue Magazine', 'Vogue Magazine', 'British Vogue', 'Vogue Italia', 'EA SPORTS FIFA', 'ELLE Magazine (US)', 'SAINT LAURENT', 'elleturkey']\n",
      "['Get the runway look and shop all things tubular with our edit of the 30 best tube tops and dresses.', \".@KimKardashian, @TraceeEllisRoss and more are featured in this week's best fashion Instagrams.\", 'The singer wore her hybrid leggings with a track top to watch A$AP Rocky perform at Lollapalooza festival', 'The boxy Rockstud-embellished Valentino handbag she swept into the restaurant with is exactly the sort of accessory that Ramona would have happily committed grand larceny for.', \"Senza stagione e senza età, diciamo lunga vita alla camicia bianca! Da Marilyn Monroe a Monica Bellucci, ecco i 10 look che l'hanno trasformata in un capo indispensabile (e iconico) \", 'Juve is back in #FIFA23\\n\\n The Bianconeri are officially back in the game as a part of a new partnership between @juventusfc and @easportsfifa. Narrated by Juve legend @ClaMarchisio8, this film celebrates a new chapter in the club’s story of a great love. Juve per sempre sarà.', 'How many Manchester United fans will wish me happy birthday today']\n"
     ]
    }
   ],
   "source": [
    "\"\"\" Do a final processing of the files \"\"\"\n",
    "new_profile = trendBot.dealProfile(profiles)\n",
    "new_date = trendBot.dealDates(datetimelist)\n",
    "new_descriptions = trendBot.dealRest(descriptions)\n",
    "new_likes = trendBot.dealRest(likes)\n",
    "new_comments = trendBot.dealRest(comments)\n",
    "new_imageUrls = trendBot.dealRest(imageUrls)\n",
    "new_retweets = trendBot.dealRest(retweets)\n",
    "print(new_profile)\n",
    "print(new_descriptions)"
   ]
  },
  {
   "cell_type": "code",
   "execution_count": 16,
   "metadata": {},
   "outputs": [],
   "source": [
    "df = pd.DataFrame(\n",
    "    list(zip(new_profile,new_date,new_comments,new_likes,new_retweets,new_descriptions,new_imageUrls)) ,\n",
    "    columns=['profile','Date','No_Of_Comments','No_Of_Likes','No_Of_Retweets','Post_Description','Image_URL'])\n",
    "df.to_csv(r\"C://Users//aniru//FlipkartGrid//complete_Twi.csv\")"
   ]
  },
  {
   "cell_type": "code",
   "execution_count": 12,
   "metadata": {},
   "outputs": [],
   "source": [
    "\"\"\" For identifying keyphrases part\"\"\"\n",
    "from keyphrase_vectorizers import KeyphraseCountVectorizer\n",
    "from keybert import KeyBERT"
   ]
  },
  {
   "cell_type": "code",
   "execution_count": 13,
   "metadata": {},
   "outputs": [],
   "source": [
    "# Init default vectorizer.\n",
    "vectorizer = KeyphraseCountVectorizer()"
   ]
  },
  {
   "cell_type": "code",
   "execution_count": 24,
   "metadata": {},
   "outputs": [
    {
     "name": "stdout",
     "output_type": "stream",
     "text": [
      "[\"From the Dyson Airwrap to M.A.C's Ruby Woo lipstick, these are the cult classics that live up to our expectations\", '\"Lo primero que hago cada mañana es... 2 cucharaditas de vinagre de sidra de manzana\".', 'Jamdani weaves and chikankari embroidery get an International platform at Spain’s XTANT festival via Injiri', 'Join us in taking a closer look at which names from the fresh cohort of #KoreanDramas are worth your time and your dime', 'Inspirant !', 'Happy birthday @Suriya_offl Anna  love you ', 'Piqué pensó que los fans del fútbol estarían de su lado y resulta que todos están de lado correcto o sea del de Shakira', '#JenniferLopez and #BenAffleck wed in an intimate Las Vegas ceremony   https://trib.al/q2ENbNN']\n"
     ]
    }
   ],
   "source": [
    "print(new_descriptions)\n",
    "    "
   ]
  },
  {
   "cell_type": "code",
   "execution_count": 41,
   "metadata": {},
   "outputs": [],
   "source": [
    "from keyphrase_vectorizers import KeyphraseCountVectorizer\n"
   ]
  },
  {
   "cell_type": "code",
   "execution_count": 55,
   "metadata": {},
   "outputs": [
    {
     "name": "stdout",
     "output_type": "stream",
     "text": [
      "['expectations' 'ruby woo lipstick' 'cult classics' 'm.a.c'\n",
      " 'dyson airwrap']\n",
      "['lo primero que hago cada mañana es' 'cucharaditas de vinagre'\n",
      " 'de manzana']\n",
      "['injiri' 'spain' 'xtant festival' 'international platform'\n",
      " 'jamdani weaves' 'chikankari embroidery']\n",
      "['# koreandramas' 'closer look' 'dime' 'time' 'names' 'fresh cohort']\n",
      "['happy birthday @suriya_offl anna']\n",
      "['benaffleck' 'intimate las vegas ceremony' 'jenniferlopez']\n"
     ]
    }
   ],
   "source": [
    "keyphrases = getKeyPhrase(descriptions)"
   ]
  },
  {
   "cell_type": "code",
   "execution_count": 53,
   "metadata": {},
   "outputs": [
    {
     "name": "stdout",
     "output_type": "stream",
     "text": [
      "[array(['expectations', 'ruby woo lipstick', 'cult classics', 'm.a.c',\n",
      "       'dyson airwrap'], dtype=object), array(['lo primero que hago cada mañana es', 'cucharaditas de vinagre',\n",
      "       'de manzana'], dtype=object), array(['injiri', 'spain', 'xtant festival', 'international platform',\n",
      "       'jamdani weaves', 'chikankari embroidery'], dtype=object), array(['# koreandramas', 'closer look', 'dime', 'time', 'names',\n",
      "       'fresh cohort'], dtype=object), 'Couldnt comprehened empty phrases', array(['happy birthday @suriya_offl anna'], dtype=object), 'Couldnt comprehened empty phrases', array(['benaffleck', 'intimate las vegas ceremony', 'jenniferlopez'],\n",
      "      dtype=object)]\n"
     ]
    }
   ],
   "source": [
    "print(keyphrases)"
   ]
  },
  {
   "cell_type": "code",
   "execution_count": 54,
   "metadata": {},
   "outputs": [],
   "source": [
    "def getKeyPhrase(desc):\n",
    "    kw_model = KeyBERT()\n",
    "    keyphrasesList = []\n",
    "    for d in desc:\n",
    "        docs = [d]\n",
    "        try:\n",
    "            document_keyphrase_matrix = vectorizer.fit_transform(docs).toarray()\n",
    "            keyphrases = vectorizer.get_feature_names_out()\n",
    "            print(keyphrases)\n",
    "            keyphrasesList.append(keyphrases)\n",
    "        except:\n",
    "            statement =\"Couldnt comprehened empty phrases\"\n",
    "            keyphrasesList.append(statement)\n",
    "    return keyphrasesList\n",
    "        \n"
   ]
  },
  {
   "cell_type": "code",
   "execution_count": 50,
   "metadata": {},
   "outputs": [
    {
     "name": "stdout",
     "output_type": "stream",
     "text": [
      "[\"From the Dyson Airwrap to M.A.C's Ruby Woo lipstick, these are the cult classics that live up to our expectations\", '\"Lo primero que hago cada mañana es... 2 cucharaditas de vinagre de sidra de manzana\".', 'Jamdani weaves and chikankari embroidery get an International platform at Spain’s XTANT festival via Injiri', 'Join us in taking a closer look at which names from the fresh cohort of #KoreanDramas are worth your time and your dime', 'Inspirant !', 'Happy birthday @Suriya_offl Anna  love you ', 'Piqué pensó que los fans del fútbol estarían de su lado y resulta que todos están de lado correcto o sea del de Shakira', '#JenniferLopez and #BenAffleck wed in an intimate Las Vegas ceremony   https://trib.al/q2ENbNN']\n"
     ]
    }
   ],
   "source": [
    "print(new_descriptions)"
   ]
  },
  {
   "cell_type": "code",
   "execution_count": 56,
   "metadata": {},
   "outputs": [],
   "source": [
    "val = \"array(['expectations', 'ruby woo lipstick', 'cult classics', 'm.a.c','dyson airwrap'], dtype=object)\""
   ]
  },
  {
   "cell_type": "code",
   "execution_count": 58,
   "metadata": {},
   "outputs": [],
   "source": [
    "v = val.split('(')\n",
    "v_1 = v[1]"
   ]
  },
  {
   "cell_type": "code",
   "execution_count": 59,
   "metadata": {},
   "outputs": [],
   "source": [
    "v_2 = v_1.split(')')\n",
    "v_3=v_2[0]"
   ]
  },
  {
   "cell_type": "code",
   "execution_count": 67,
   "metadata": {},
   "outputs": [],
   "source": [
    "v_4= v_3.split('dtype')\n",
    "v_5=v_4[0]"
   ]
  },
  {
   "cell_type": "code",
   "execution_count": 68,
   "metadata": {},
   "outputs": [
    {
     "name": "stdout",
     "output_type": "stream",
     "text": [
      "['expectations', 'ruby woo lipstick', 'cult classics', 'm.a.c','dyson airwrap'], \n"
     ]
    }
   ],
   "source": [
    "print(v_5)"
   ]
  },
  {
   "cell_type": "code",
   "execution_count": null,
   "metadata": {},
   "outputs": [],
   "source": []
  }
 ],
 "metadata": {
  "kernelspec": {
   "display_name": "Python 3.8.8 ('base')",
   "language": "python",
   "name": "python3"
  },
  "language_info": {
   "codemirror_mode": {
    "name": "ipython",
    "version": 3
   },
   "file_extension": ".py",
   "mimetype": "text/x-python",
   "name": "python",
   "nbconvert_exporter": "python",
   "pygments_lexer": "ipython3",
   "version": "3.8.8"
  },
  "orig_nbformat": 4,
  "vscode": {
   "interpreter": {
    "hash": "2f3eb0242237f7482054201cdc0254386ced23c6e95d6945cb90bc9b5b8e1362"
   }
  }
 },
 "nbformat": 4,
 "nbformat_minor": 2
}
